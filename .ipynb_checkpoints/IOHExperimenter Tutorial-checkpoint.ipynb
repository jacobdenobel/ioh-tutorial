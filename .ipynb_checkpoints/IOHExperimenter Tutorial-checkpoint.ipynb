{
 "cells": [
  {
   "cell_type": "code",
   "execution_count": 1,
   "id": "07fdf86d",
   "metadata": {},
   "outputs": [],
   "source": [
    "import os\n",
    "from dataclasses import dataclass\n",
    "import logging\n",
    "logging.basicConfig(level=logging.INFO, \n",
    "    format='%(asctime)s %(levelname)s - %(message)s',\n",
    "    datefmt=\"%H:%M:%S\"\n",
    ")\n",
    "\n",
    "import numpy as np\n",
    "%rm -rf my-experiment*"
   ]
  },
  {
   "cell_type": "code",
   "execution_count": 2,
   "id": "41cf4c7e-1813-4414-9e38-e1efc3ad622d",
   "metadata": {},
   "outputs": [
    {
     "name": "stdout",
     "output_type": "stream",
     "text": [
      "Name: ioh\n",
      "Version: 0.3.2.8.3\n",
      "Summary: The experimenter for Iterative Optimization Heuristics\n",
      "Home-page: None\n",
      "Author: Jacob de Nobel, Furong Ye, Diederick Vermetten, Hao Wang, Carola Doerr and Thomas Bäck\n",
      "Author-email: iohprofiler@liacs.leidenuniv.nl\n",
      "License: None\n",
      "Location: /home/jacob/code/ioh-tutorial/venv/lib/python3.8/site-packages\n",
      "Requires: numpy\n",
      "Required-by: \n",
      "Note: you may need to restart the kernel to use updated packages.\n"
     ]
    }
   ],
   "source": [
    "import ioh\n",
    "%pip show ioh"
   ]
  },
  {
   "cell_type": "markdown",
   "id": "94f8621d",
   "metadata": {},
   "source": [
    "# Problem\n",
    "In ioh, everything revolves around the `problem` class, which exists for both `Real` and `Integer` types for continious and discrete problems resp. These classes are wrappers around an objective function, and can be used to interact with the various other parts of iohexperimenter. \n",
    "\n",
    "We have a number of objective functions already implemented for convenience, which includes the objective functions from the BBOB single objective benchmark by the COCO platform for the continous case and the PBO benchmark functions for the discrete case.\n"
   ]
  },
  {
   "cell_type": "code",
   "execution_count": 3,
   "id": "5cbe3df2",
   "metadata": {
    "tags": []
   },
   "outputs": [
    {
     "data": {
      "text/plain": [
       "{1: 'Sphere',\n",
       " 2: 'Ellipsoid',\n",
       " 3: 'Rastrigin',\n",
       " 4: 'BuecheRastrigin',\n",
       " 5: 'LinearSlope',\n",
       " 6: 'AttractiveSector',\n",
       " 7: 'StepEllipsoid',\n",
       " 8: 'Rosenbrock',\n",
       " 9: 'RosenbrockRotated',\n",
       " 10: 'EllipsoidRotated',\n",
       " 11: 'Discus',\n",
       " 12: 'BentCigar',\n",
       " 13: 'SharpRidge',\n",
       " 14: 'DifferentPowers',\n",
       " 15: 'RastriginRotated',\n",
       " 16: 'Weierstrass',\n",
       " 17: 'Schaffers10',\n",
       " 18: 'Schaffers1000',\n",
       " 19: 'GriewankRosenBrock',\n",
       " 20: 'Schwefel',\n",
       " 21: 'Gallagher101',\n",
       " 22: 'Gallagher21',\n",
       " 23: 'Katsuura',\n",
       " 24: 'LunacekBiRastrigin'}"
      ]
     },
     "execution_count": 3,
     "metadata": {},
     "output_type": "execute_result"
    }
   ],
   "source": [
    "# A list of problems can be accessed via the base classes\n",
    "ioh.problem.Real.problems"
   ]
  },
  {
   "cell_type": "code",
   "execution_count": 37,
   "id": "2e9d10a4",
   "metadata": {
    "tags": []
   },
   "outputs": [
    {
     "data": {
      "text/plain": [
       "<RealProblem 1. Sphere (iid=1 dim=10)>"
      ]
     },
     "execution_count": 37,
     "metadata": {},
     "output_type": "execute_result"
    }
   ],
   "source": [
    "# In order to instantiate a problem instance, we can do the following:\n",
    "problem = ioh.get_problem(\n",
    "    \"Sphere\", \n",
    "    instance=1,\n",
    "    dimension=10,\n",
    "    problem_type=\"Real\"\n",
    ")\n",
    "problem"
   ]
  },
  {
   "cell_type": "code",
   "execution_count": 38,
   "id": "e0c8733f",
   "metadata": {
    "tags": []
   },
   "outputs": [
    {
     "data": {
      "text/plain": [
       "'Sphere'"
      ]
     },
     "execution_count": 38,
     "metadata": {},
     "output_type": "execute_result"
    }
   ],
   "source": [
    "# The problem class includes information about the problem, which can be retrieved via the meta_data accessor\n",
    "problem.meta_data.name"
   ]
  },
  {
   "cell_type": "code",
   "execution_count": 39,
   "id": "f0264ec1",
   "metadata": {
    "tags": []
   },
   "outputs": [
    {
     "data": {
      "text/plain": [
       "<State evaluations: 0 optimum_found: false current_best: <Solution x: {nan, nan, nan, nan, nan, nan, nan, nan, nan, nan} y: nan>>"
      ]
     },
     "execution_count": 39,
     "metadata": {},
     "output_type": "execute_result"
    }
   ],
   "source": [
    "# The current state of the problem, e.g. the number of evaluations, best seen points etc. are stored in the problems state.\n",
    "problem.state"
   ]
  },
  {
   "cell_type": "code",
   "execution_count": 40,
   "id": "1aefd8ed",
   "metadata": {},
   "outputs": [
    {
     "data": {
      "text/plain": [
       "<Constraint lb: [{-5, -5, -5, -5, -5, -5, -5, -5, -5, -5}] ub: [{5, 5, 5, 5, 5, 5, 5, 5, 5, 5}]>"
      ]
     },
     "execution_count": 40,
     "metadata": {},
     "output_type": "execute_result"
    }
   ],
   "source": [
    "# Every problem as has a simple box-constraint associcated\n",
    "problem.constraint"
   ]
  },
  {
   "cell_type": "code",
   "execution_count": 7,
   "id": "372f25a0",
   "metadata": {},
   "outputs": [
    {
     "data": {
      "text/plain": [
       "<State evaluations: 1 optimum_found: false current_best: <Solution x: {-4.4698249821201665, -2.4182544118209104, -2.465293072747974, -4.137600851606731, -3.9902513975778398, 3.802628402292921, -1.7015733792592114, -3.015974812936099, -4.790922026481786, 3.62301748109253} y: 223.040438906899>>"
      ]
     },
     "execution_count": 7,
     "metadata": {},
     "output_type": "execute_result"
    }
   ],
   "source": [
    "# We can access the contraint information of the problem\n",
    "x0 = np.random.uniform(problem.constraint.lb, problem.constraint.ub)\n",
    "\n",
    "# Evaluation happens like a 'normal' objective function would\n",
    "problem(x0)\n",
    "\n",
    "# Whenever the problem is evaluated, the state changes\n",
    "problem.state"
   ]
  },
  {
   "cell_type": "code",
   "execution_count": 8,
   "id": "75f26c25",
   "metadata": {},
   "outputs": [],
   "source": [
    "# If we want to perform multiple runs with the same objective function, after every run, the problem has to be reset, \n",
    "# such that the internal state reflects the current run.\n",
    "def run_experiment(problem, algorithm, n_runs=5):\n",
    "    for run in range(n_runs):\n",
    "        \n",
    "        # Run the algorithm on the problem\n",
    "        algorithm(problem)\n",
    "\n",
    "        # print the best found for this run\n",
    "        print(f\"run: {run+1} - best found:{problem.state.current_best.y: .3f}\")\n",
    "\n",
    "        # Reset the problem\n",
    "        problem.reset()"
   ]
  },
  {
   "cell_type": "code",
   "execution_count": 9,
   "id": "16d775ef",
   "metadata": {},
   "outputs": [],
   "source": [
    "@dataclass\n",
    "class RandomSearch:\n",
    "    'Simple random search algorithm'\n",
    "    \n",
    "    n: int\n",
    "    length: float = 0.0\n",
    "        \n",
    "    def __call__(self, problem: ioh.problem.Real) -> None:\n",
    "        'Evaluate the problem n times with a randomly generated solution'\n",
    "        \n",
    "        for _ in range(self.n):\n",
    "            # We can use the problems constraint accessor to get information about the problem bounds\n",
    "            x = np.random.uniform(problem.constraint.lb, problem.constraint.ub)\n",
    "            self.length = np.linalg.norm(x)\n",
    "            \n",
    "            problem(x)  \n",
    "            "
   ]
  },
  {
   "cell_type": "code",
   "execution_count": 10,
   "id": "04699081-e241-493f-8f51-85f14c137df1",
   "metadata": {},
   "outputs": [
    {
     "name": "stdout",
     "output_type": "stream",
     "text": [
      "run: 1 - best found: 151.785\n",
      "run: 2 - best found: 140.655\n",
      "run: 3 - best found: 123.126\n",
      "run: 4 - best found: 152.507\n",
      "run: 5 - best found: 113.123\n"
     ]
    }
   ],
   "source": [
    "# using the random search algorithm, we can then run a simple experiment\n",
    "run_experiment(problem, RandomSearch(10))"
   ]
  },
  {
   "cell_type": "markdown",
   "id": "ff1d41c0",
   "metadata": {},
   "source": [
    "# Adding custom problems\n",
    "As the list of already implemented problems might not contains the objective function you would like to analyze and benchmark, we include an easy to use interface to wrap your benchmark function into an iohexperimenter `problem` object. \n",
    "\n",
    "Currently, only single objective functions are supported, so the only requirement on the function is its signature, which should take a single array parameter, and return a single floating point number $f(\\mathbf{x}) \\mapsto \\mathbb{R}$.\n",
    "\n",
    "In this example we will add the function (Styblinski–Tang):\n",
    "\n",
    "$f(\\mathbf{x}) = \\frac{\\sum_{i=1}^n x_i^4 - 16x_i^2 + 5x_i}{2}$\n",
    "\n",
    "defined on $[-5, 5]$"
   ]
  },
  {
   "cell_type": "code",
   "execution_count": 11,
   "id": "86f32b7a",
   "metadata": {},
   "outputs": [
    {
     "data": {
      "text/plain": [
       "-391.661657037714"
      ]
     },
     "execution_count": 11,
     "metadata": {},
     "output_type": "execute_result"
    }
   ],
   "source": [
    "def styblinski_tang(x: np.ndarray) -> float:\n",
    "    return np.sum(np.power(x, 4) - (16 * np.power(x, 2)) + (5 * x)) / 2\n",
    "\n",
    "\n",
    "styblinski_tang(np.array([-2.903534]*10)) # global minima"
   ]
  },
  {
   "cell_type": "code",
   "execution_count": 12,
   "id": "eb23a7d5",
   "metadata": {},
   "outputs": [],
   "source": [
    "# we can wrap this function in ioh, as this is is a continous function, we use wrap_real_problem:\n",
    "ioh.problem.wrap_real_problem(\n",
    "    styblinski_tang,                                     # Handle to the function\n",
    "    name=\"StyblinskiTang\",                               # Name to be used when instantiating\n",
    "    optimization_type=ioh.OptimizationType.Minimization, # Specify that we want to minimize\n",
    "    lb=-5,                                               # The lower bound\n",
    "    ub=5,                                                # The upper bound\n",
    ")"
   ]
  },
  {
   "cell_type": "code",
   "execution_count": 13,
   "id": "f76f8aea",
   "metadata": {},
   "outputs": [
    {
     "data": {
      "text/plain": [
       "<RealProblem 25. StyblinskiTang (iid=1 dim=10)>"
      ]
     },
     "execution_count": 13,
     "metadata": {},
     "output_type": "execute_result"
    }
   ],
   "source": [
    "# We can create an instance of this problem, wrapped in ioh\n",
    "problem = ioh.get_problem(\"StyblinskiTang\", dimension=10)\n",
    "problem"
   ]
  },
  {
   "cell_type": "code",
   "execution_count": 14,
   "id": "bcedf9d9-29f9-4292-a7a7-d16a8bfdae48",
   "metadata": {},
   "outputs": [
    {
     "data": {
      "text/plain": [
       "-391.661657037714"
      ]
     },
     "execution_count": 14,
     "metadata": {},
     "output_type": "execute_result"
    }
   ],
   "source": [
    "problem(np.array([-2.903534]*10))"
   ]
  },
  {
   "cell_type": "markdown",
   "id": "d6ef70d4",
   "metadata": {},
   "source": [
    "## Specifying instances\n",
    "When doing bechmarking of custom problems, it can often be usefull to look at different instances of the same problem, but that perform some transformation the parameter or objective space, to test if an algorithm is invariant to such transformations. \n",
    "\n",
    "Here we add the following transformations to the aforementioned objective function:\n",
    "\n",
    "$T_x(\\mathbf{x}, c) = \\mathbf{x} + c$\n",
    "\n",
    "$T_y(y, c) = y * c$\n",
    "\n",
    "We can do this by providing transformation functions to the `wrap_problem` interface. Note that these take two parameters:\n",
    " 1. The operand they function on, which are the variables for the variables transformation and objective function value for the objective transformation. \n",
    " 2. An integer identifier of the instance id which is currently used. This allows you to specify alternate behavior for different instances.  "
   ]
  },
  {
   "cell_type": "code",
   "execution_count": 15,
   "id": "200870f4",
   "metadata": {},
   "outputs": [],
   "source": [
    "# Variables transformation R^d -> R^d\n",
    "def transform_variables(x: np.ndarray, instance_id:int) -> np.ndarray:\n",
    "    c = (instance_id - 1) * .5\n",
    "    return x + c\n",
    "\n",
    "# Objective transformation R -> R\n",
    "def transform_objectives(y: float, instance_id:int) -> float:\n",
    "    c = instance_id\n",
    "    return y * c\n",
    "\n",
    "# Note that we can overwrite a previously defined problem by calling wrap_real_problem again with the same name\n",
    "ioh.problem.wrap_real_problem(\n",
    "    styblinski_tang,                                     \n",
    "    name=\"StyblinskiTang\",                               \n",
    "    optimization_type=ioh.OptimizationType.Minimization, \n",
    "    lb=-5,                                               \n",
    "    ub=5,      \n",
    "    \n",
    "    # Adding the transformation functions\n",
    "    transform_variables=transform_variables,     \n",
    "    transform_objectives=transform_objectives\n",
    ")"
   ]
  },
  {
   "cell_type": "code",
   "execution_count": 16,
   "id": "5b86e87e",
   "metadata": {},
   "outputs": [
    {
     "data": {
      "text/plain": [
       "(<RealProblem 25. StyblinskiTang (iid=1 dim=10)>,\n",
       " <RealProblem 25. StyblinskiTang (iid=2 dim=10)>)"
      ]
     },
     "execution_count": 16,
     "metadata": {},
     "output_type": "execute_result"
    }
   ],
   "source": [
    "# We can now create different instances of the same problem\n",
    "instance1 = ioh.get_problem(\"StyblinskiTang\", instance=1, dimension=10)\n",
    "instance2 = ioh.get_problem(\"StyblinskiTang\", instance=2, dimension=10)\n",
    "instance1, instance2"
   ]
  },
  {
   "cell_type": "code",
   "execution_count": 17,
   "id": "e20b5d6b",
   "metadata": {},
   "outputs": [
    {
     "data": {
      "text/plain": [
       "(-60.600347776302215, -226.27771930828771)"
      ]
     },
     "execution_count": 17,
     "metadata": {},
     "output_type": "execute_result"
    }
   ],
   "source": [
    "# Note that when evaluating with the same point, each instance gives a different (transformed value)\n",
    "instance1(x0), instance2(x0)"
   ]
  },
  {
   "cell_type": "markdown",
   "id": "021fac60",
   "metadata": {},
   "source": [
    "# Logging data\n",
    "The default usage of IOHExperimenter is in generating logs of benchmarking experiments which can be analyzed in IOHAnalyzer. "
   ]
  },
  {
   "cell_type": "code",
   "execution_count": 18,
   "id": "b5d4b73d",
   "metadata": {},
   "outputs": [
    {
     "data": {
      "text/plain": [
       "<Analyzer /home/jacob/code/ioh-tutorial/my-experiment>"
      ]
     },
     "execution_count": 18,
     "metadata": {},
     "output_type": "execute_result"
    }
   ],
   "source": [
    "import os\n",
    "\n",
    "logger = ioh.logger.Analyzer(\n",
    "    root=os.getcwd(),                  # Store data in the current working directory\n",
    "    folder_name=\"my-experiment\",       # in a folder named: 'my-experiment'\n",
    "    algorithm_name=\"random-search\",    # meta-data for the algorithm used to generate these results\n",
    "    store_positions=True               # store x-variables in the logged files\n",
    ")\n",
    "\n",
    "# this automatically creates a folder 'my-experiment' in the current working directory\n",
    "# if the folder already exists, it will given an additional number to make the name unique\n",
    "logger"
   ]
  },
  {
   "cell_type": "code",
   "execution_count": 19,
   "id": "e008c25a",
   "metadata": {},
   "outputs": [
    {
     "name": "stdout",
     "output_type": "stream",
     "text": [
      "'IOHExperimenter Tutorial.ipynb'   \u001b[0m\u001b[01;34mmy-experiment\u001b[0m/   requirements.txt   \u001b[01;34mvenv\u001b[0m/\r\n"
     ]
    }
   ],
   "source": [
    "%ls"
   ]
  },
  {
   "cell_type": "code",
   "execution_count": 20,
   "id": "276c6a7b",
   "metadata": {},
   "outputs": [
    {
     "name": "stdout",
     "output_type": "stream",
     "text": [
      "run: 1 - best found:-63.694\n"
     ]
    }
   ],
   "source": [
    "# In order to log data for a problem, we only have to attach it to a logger\n",
    "problem = ioh.get_problem(\"StyblinskiTang\", instance=1, dimension=2)\n",
    "problem.attach_logger(logger)\n",
    "\n",
    "# We can then run the random search as before, only now all data will be logged to a file\n",
    "run_experiment(problem, RandomSearch(10), n_runs=1)"
   ]
  },
  {
   "cell_type": "code",
   "execution_count": 21,
   "id": "4207c311",
   "metadata": {},
   "outputs": [
    {
     "name": "stdout",
     "output_type": "stream",
     "text": [
      "suite = \"unknown_suite\", funcId = 25, funcName = \"StyblinskiTang\", DIM = 2, maximization = \"F\", algId = \"random-search\", algInfo = \"algorithm_info\"\r\n",
      "%\r\n",
      "data_f25_StyblinskiTang/IOHprofiler_f25_DIM2.dat, 1:10|-63.6937"
     ]
    }
   ],
   "source": [
    "%cat my-experiment/IOHprofiler_f25_StyblinskiTang.info"
   ]
  },
  {
   "cell_type": "code",
   "execution_count": 22,
   "id": "d820be5c",
   "metadata": {},
   "outputs": [
    {
     "name": "stdout",
     "output_type": "stream",
     "text": [
      "\"function evaluation\" \"current f(x)\" \"best-so-far f(x)\" \"current af(x)+b\" \"best af(x)+b\" x0 x1\r\n",
      "1 -31.8162003917 -31.8162003917 -31.8162003917 -31.8162003917 0.945798 -1.916230\r\n",
      "2 -34.3675943931 -34.3675943931 -34.3675943931 -34.3675943931 -3.381180 0.146305\r\n",
      "5 -39.2020752688 -39.2020752688 -39.2020752688 -39.2020752688 2.036797 2.053557\r\n",
      "7 -40.1676775584 -40.1676775584 -40.1676775584 -40.1676775584 -3.248923 0.841515\r\n",
      "10 -63.6936536356 -63.6936536356 -63.6936536356 -63.6936536356 -3.484472 -2.143402\r\n"
     ]
    }
   ],
   "source": [
    "%cat my-experiment/data_f25_StyblinskiTang/IOHprofiler_f25_DIM2.dat"
   ]
  },
  {
   "cell_type": "markdown",
   "id": "7da18cd9",
   "metadata": {},
   "source": [
    "## Triggers \n",
    "The default behavior of the `Analyzer` logger is to log data only when there is an improvement of the objective value. We can change this behaviour, by specifying one or more triggers, which are logical operators, which when one of them evaluates to True, will cause data to be logged.\n",
    "\n",
    "We provide a number of trigger variants which can be use to customize the logging. In the following example, a trigger is defined which evaluates to True, every 3 function evaluations. It is combined with a trigger for improvement, so data will be logged on every 3rd function evaluation, or when there is an observed improvement of the objective value"
   ]
  },
  {
   "cell_type": "code",
   "execution_count": 23,
   "id": "3673e717",
   "metadata": {},
   "outputs": [
    {
     "data": {
      "text/plain": [
       "<Analyzer /home/jacob/code/ioh-tutorial/my-experiment-1>"
      ]
     },
     "execution_count": 23,
     "metadata": {},
     "output_type": "execute_result"
    }
   ],
   "source": [
    "triggers = [\n",
    "    ioh.logger.trigger.Each(3),\n",
    "    ioh.logger.trigger.OnImprovement()\n",
    "]\n",
    "\n",
    "logger = ioh.logger.Analyzer(\n",
    "    root=os.getcwd(),                  \n",
    "    folder_name=\"my-experiment\",       \n",
    "    algorithm_name=\"random-search\",    \n",
    "    store_positions=True,\n",
    "    \n",
    "    # Add the triggers to the logger\n",
    "    triggers = triggers\n",
    ")\n",
    "\n",
    "logger"
   ]
  },
  {
   "cell_type": "code",
   "execution_count": 24,
   "id": "f8720851",
   "metadata": {},
   "outputs": [
    {
     "name": "stdout",
     "output_type": "stream",
     "text": [
      "run: 1 - best found:-75.768\n"
     ]
    }
   ],
   "source": [
    "# Rerun the same experiment as before\n",
    "problem = ioh.get_problem(\"StyblinskiTang\", instance=1, dimension=2)\n",
    "problem.attach_logger(logger)\n",
    "run_experiment(problem, RandomSearch(10), n_runs=1)"
   ]
  },
  {
   "cell_type": "code",
   "execution_count": 25,
   "id": "0eb16b3e",
   "metadata": {},
   "outputs": [
    {
     "name": "stdout",
     "output_type": "stream",
     "text": [
      "\"function evaluation\" \"current f(x)\" \"best-so-far f(x)\" \"current af(x)+b\" \"best af(x)+b\" x0 x1\r\n",
      "1 -11.6221583974 -11.6221583974 -11.6221583974 -11.6221583974 -0.476959 -0.915057\r\n",
      "2 -30.3989566889 -30.3989566889 -30.3989566889 -30.3989566889 2.869249 -0.703772\r\n",
      "3 -75.7679913938 -75.7679913938 -75.7679913938 -75.7679913938 -2.779605 -2.512388\r\n",
      "5 -53.7260191372 -75.7679913938 -53.7260191372 -75.7679913938 3.024727 -3.561001\r\n",
      "6 -48.0849995550 -75.7679913938 -48.0849995550 -75.7679913938 -2.611492 1.399542\r\n",
      "9 -29.9783355985 -75.7679913938 -29.9783355985 -75.7679913938 -0.836760 2.295228\r\n",
      "10 153.3862359366 -75.7679913938 153.3862359366 -75.7679913938 4.945087 -4.553149\r\n"
     ]
    }
   ],
   "source": [
    "# We can now see that data is logged either if there is improvement, or on every 3rd evaluation\n",
    "%cat my-experiment-1/data_f25_StyblinskiTang/IOHprofiler_f25_DIM2.dat"
   ]
  },
  {
   "cell_type": "markdown",
   "id": "3ebb4607",
   "metadata": {},
   "source": [
    "## Properties\n",
    "If we want to keep track of any dynamic parameters a given algorithm might have, we can use properties to log them to the output files. \n",
    "\n",
    "In the following example, we will track the length parameters for the RandomSearch algorithm, which is added for illustrative purpoposes, and changes for every function evaluation"
   ]
  },
  {
   "cell_type": "code",
   "execution_count": 26,
   "id": "d3a125d6",
   "metadata": {},
   "outputs": [
    {
     "name": "stdout",
     "output_type": "stream",
     "text": [
      "run: 1 - best found:-42.373\n"
     ]
    }
   ],
   "source": [
    "# RandomSearch has a length parameter, which is dynamic\n",
    "algorithm = RandomSearch(10)\n",
    "\n",
    "# Creating a new logger\n",
    "logger = ioh.logger.Analyzer(\n",
    "    root=os.getcwd(),                  \n",
    "    folder_name=\"my-experiment\",       \n",
    "    algorithm_name=\"random-search\",    \n",
    "    store_positions=True\n",
    ")\n",
    "\n",
    "# Before we attach a problem, we tell the logger to keep track of the length parameter on algorithm\n",
    "logger.watch(algorithm, \"length\")\n",
    "\n",
    "# We can now again run the same experiment \n",
    "problem = ioh.get_problem(\"StyblinskiTang\", instance=1, dimension=2)\n",
    "\n",
    "problem.attach_logger(logger)\n",
    "run_experiment(problem, algorithm, n_runs=1)"
   ]
  },
  {
   "cell_type": "code",
   "execution_count": 27,
   "id": "103e13cb",
   "metadata": {},
   "outputs": [
    {
     "name": "stdout",
     "output_type": "stream",
     "text": [
      "\"function evaluation\" \"current f(x)\" \"best-so-far f(x)\" \"current af(x)+b\" \"best af(x)+b\" length x0 x1\r\n",
      "1 -24.2119312181 -24.2119312181 -24.2119312181 -24.2119312181 4.0014447490 -0.899782 -3.898968\r\n",
      "3 -32.4445560120 -32.4445560120 -32.4445560120 -32.4445560120 5.0540123055 3.924933 -3.184013\r\n",
      "5 -42.3727179687 -42.3727179687 -42.3727179687 -42.3727179687 4.3335007857 2.123141 -3.777764\r\n",
      "10 24.8002583120 -42.3727179687 24.8002583120 -42.3727179687 4.4425713313 0.296947 -4.432636\r\n"
     ]
    }
   ],
   "source": [
    "# Note the additional length parameter being logged \n",
    "%cat my-experiment-2/data_f25_StyblinskiTang/IOHprofiler_f25_DIM2.dat"
   ]
  },
  {
   "cell_type": "markdown",
   "id": "7e2642f5",
   "metadata": {},
   "source": [
    "# Alternate logging behaviour\n",
    "We provide a number of different loggers in addition to the `Analyzer` logger, which include:\n",
    " - `FlatFile` which logs data to a simple csv file\n",
    " - `Store` which keeps all of the stored data in memory\n",
    " - `EAF/EAH` which compute Empirical Attainment Function/Histogram statistics on the fly\n",
    "\n",
    "You can define your own custom logging behavoir by inheriting from the `AbstractLogger` class. The only required part of the interface is that you override the `__call__` operator, which takes a single `ioh.LogInfo` parameter. In this method you should define your desired behavior. "
   ]
  },
  {
   "cell_type": "code",
   "execution_count": 28,
   "id": "bad5d7de",
   "metadata": {},
   "outputs": [
    {
     "name": "stderr",
     "output_type": "stream",
     "text": [
      "15:05:13 INFO - triggered! y: -44.65487212518594\n",
      "15:05:13 INFO - triggered! y: -46.79361299836936\n"
     ]
    },
    {
     "name": "stdout",
     "output_type": "stream",
     "text": [
      "run: 1 - best found:-46.794\n"
     ]
    }
   ],
   "source": [
    "# Simple logger that logs data using the python logging module whenever it is triggeredd\n",
    "class MyLogger(ioh.logger.AbstractLogger):\n",
    "    def __call__(self, log_info: ioh.LogInfo):\n",
    "        logging.info(msg=f\"triggered! y: {log_info.current.y}\")\n",
    "\n",
    "\n",
    "# The abstract logger takes two parameters, triggers and properties\n",
    "mylogger = MyLogger(triggers=[ioh.logger.trigger.ON_IMPROVEMENT])\n",
    "\n",
    "problem = ioh.get_problem(\"StyblinskiTang\", instance=1, dimension=2)\n",
    "problem.attach_logger(mylogger)\n",
    "\n",
    "run_experiment(problem, RandomSearch(10), 1)"
   ]
  },
  {
   "cell_type": "code",
   "execution_count": 42,
   "id": "53206159",
   "metadata": {},
   "outputs": [
    {
     "data": {
      "text/plain": [
       "['__class__',\n",
       " '__delattr__',\n",
       " '__dir__',\n",
       " '__doc__',\n",
       " '__eq__',\n",
       " '__format__',\n",
       " '__ge__',\n",
       " '__getattribute__',\n",
       " '__gt__',\n",
       " '__hash__',\n",
       " '__init__',\n",
       " '__init_subclass__',\n",
       " '__le__',\n",
       " '__lt__',\n",
       " '__module__',\n",
       " '__ne__',\n",
       " '__new__',\n",
       " '__reduce__',\n",
       " '__reduce_ex__',\n",
       " '__repr__',\n",
       " '__setattr__',\n",
       " '__sizeof__',\n",
       " '__str__',\n",
       " '__subclasshook__',\n",
       " 'add_trigger',\n",
       " 'append',\n",
       " 'attach_problem',\n",
       " 'attach_suite',\n",
       " 'call',\n",
       " 'problem',\n",
       " 'reset']"
      ]
     },
     "execution_count": 42,
     "metadata": {},
     "output_type": "execute_result"
    }
   ],
   "source": [
    "# Creating a logger which tracks the current best search point on improvement in memory\n",
    "store = ioh.logger.Store(\n",
    "    triggers=[ioh.logger.trigger.ON_IMPROVEMENT], \n",
    "    properties=[ioh.logger.property.CURRENT_Y_BEST]\n",
    ")\n",
    "\n",
    "# Create a MyLogger which triggers at every evaluation\n",
    "mylogger = MyLogger(triggers=[ioh.logger.trigger.ALWAYS])\n",
    "\n",
    "# It is possible to combine the behaviour of multiple loggers, using the combine wrapper\n",
    "combined_logger = ioh.logger.Combine([store, mylogger])\n"
   ]
  },
  {
   "cell_type": "code",
   "execution_count": 30,
   "id": "3ecfa360",
   "metadata": {},
   "outputs": [
    {
     "name": "stderr",
     "output_type": "stream",
     "text": [
      "15:05:13 INFO - triggered! y: -30.264688077620136\n",
      "15:05:13 INFO - triggered! y: 20.310821843946748\n",
      "15:05:13 INFO - triggered! y: 38.41614786071135\n",
      "15:05:13 INFO - triggered! y: -37.76235002726418\n",
      "15:05:13 INFO - triggered! y: -57.40299829518487\n",
      "15:05:13 INFO - triggered! y: 19.85593324127961\n",
      "15:05:13 INFO - triggered! y: 22.6262097592994\n",
      "15:05:13 INFO - triggered! y: 101.39736613311032\n",
      "15:05:13 INFO - triggered! y: -16.316406213359997\n",
      "15:05:13 INFO - triggered! y: -41.9523016280673\n"
     ]
    },
    {
     "name": "stdout",
     "output_type": "stream",
     "text": [
      "run: 1 - best found:-57.403\n"
     ]
    }
   ],
   "source": [
    "problem = ioh.get_problem(\"StyblinskiTang\", instance=1, dimension=2)\n",
    "problem.attach_logger(combined_logger)\n",
    "\n",
    "run_experiment(problem, RandomSearch(10), 1)"
   ]
  },
  {
   "cell_type": "code",
   "execution_count": 31,
   "id": "201e716d",
   "metadata": {},
   "outputs": [
    {
     "data": {
      "text/plain": [
       "{0: {'current_y': -30.264688077620136},\n",
       " 1: {'current_y': -37.76235002726418},\n",
       " 2: {'current_y': -57.40299829518487}}"
      ]
     },
     "execution_count": 31,
     "metadata": {},
     "output_type": "execute_result"
    }
   ],
   "source": [
    "store.data()[\n",
    "    'None' # Suite name\n",
    "    ][\n",
    "    25     # problem id\n",
    "    ][\n",
    "    2      # dimension\n",
    "    ][\n",
    "    1      # instance id\n",
    "    ][\n",
    "    0      # run number\n",
    "    ]"
   ]
  },
  {
   "cell_type": "code",
   "execution_count": 32,
   "id": "f0af0383-b891-4349-abe7-60923d6066a5",
   "metadata": {},
   "outputs": [
    {
     "data": {
      "text/plain": [
       "{'None': {25: {2: {1: {0: {0: {'current_y': -30.264688077620136},\n",
       "      1: {'current_y': -37.76235002726418},\n",
       "      2: {'current_y': -57.40299829518487}}}}}}}"
      ]
     },
     "execution_count": 32,
     "metadata": {},
     "output_type": "execute_result"
    }
   ],
   "source": [
    "store.data() "
   ]
  },
  {
   "cell_type": "code",
   "execution_count": null,
   "id": "9700035c-1868-427e-b365-21dc163ab1f3",
   "metadata": {},
   "outputs": [],
   "source": []
  }
 ],
 "metadata": {
  "kernelspec": {
   "display_name": "Python 3 (ipykernel)",
   "language": "python",
   "name": "python3"
  },
  "language_info": {
   "codemirror_mode": {
    "name": "ipython",
    "version": 3
   },
   "file_extension": ".py",
   "mimetype": "text/x-python",
   "name": "python",
   "nbconvert_exporter": "python",
   "pygments_lexer": "ipython3",
   "version": "3.8.10"
  }
 },
 "nbformat": 4,
 "nbformat_minor": 5
}
