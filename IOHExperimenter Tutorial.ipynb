{
 "cells": [
  {
   "cell_type": "code",
   "execution_count": 27,
   "id": "a8ee1f10",
   "metadata": {},
   "outputs": [],
   "source": [
    "import os\n",
    "from dataclasses import dataclass\n",
    "import logging\n",
    "logging.basicConfig(level=logging.INFO, \n",
    "    format='%(asctime)s %(levelname)s - %(message)s',\n",
    "    datefmt=\"%H:%M:%S\"\n",
    ")\n",
    "\n",
    "import ioh # version 0.3.2.8.3\n",
    "import numpy as np\n",
    "%rm -rf my-experiment*"
   ]
  },
  {
   "cell_type": "markdown",
   "id": "9348503d",
   "metadata": {},
   "source": [
    "# Problem\n",
    "In ioh, everything revolves around the `problem` class, which exists for both `Real` and `Integer` types for continious and discrete problems resp. These classes are wrappers around an objective function, and can be used to interact with the various other parts of iohexperimenter. \n",
    "\n",
    "We have a number of objective functions already implemented for convenience, which includes the objective functions from the BBOB single objective benchmark by the COCO platform for the continous case and the PBO benchmark functions for the discrete case.\n"
   ]
  },
  {
   "cell_type": "code",
   "execution_count": 2,
   "id": "2512d0c6",
   "metadata": {
    "scrolled": false
   },
   "outputs": [
    {
     "data": {
      "text/plain": [
       "{1: 'Sphere',\n",
       " 2: 'Ellipsoid',\n",
       " 3: 'Rastrigin',\n",
       " 4: 'BuecheRastrigin',\n",
       " 5: 'LinearSlope',\n",
       " 6: 'AttractiveSector',\n",
       " 7: 'StepEllipsoid',\n",
       " 8: 'Rosenbrock',\n",
       " 9: 'RosenbrockRotated',\n",
       " 10: 'EllipsoidRotated',\n",
       " 11: 'Discus',\n",
       " 12: 'BentCigar',\n",
       " 13: 'SharpRidge',\n",
       " 14: 'DifferentPowers',\n",
       " 15: 'RastriginRotated',\n",
       " 16: 'Weierstrass',\n",
       " 17: 'Schaffers10',\n",
       " 18: 'Schaffers1000',\n",
       " 19: 'GriewankRosenBrock',\n",
       " 20: 'Schwefel',\n",
       " 21: 'Gallagher101',\n",
       " 22: 'Gallagher21',\n",
       " 23: 'Katsuura',\n",
       " 24: 'LunacekBiRastrigin'}"
      ]
     },
     "execution_count": 2,
     "metadata": {},
     "output_type": "execute_result"
    }
   ],
   "source": [
    "## A list of problems can be accessed via the base classes\n",
    "ioh.problem.Real.problems"
   ]
  },
  {
   "cell_type": "code",
   "execution_count": 3,
   "id": "fce56283",
   "metadata": {},
   "outputs": [
    {
     "data": {
      "text/plain": [
       "<RealProblem 1. Sphere (iid=1 dim=10)>"
      ]
     },
     "execution_count": 3,
     "metadata": {},
     "output_type": "execute_result"
    }
   ],
   "source": [
    "# In order to instatiate a problem instance, we can do the following:\n",
    "problem = ioh.get_problem(\n",
    "    \"Sphere\", \n",
    "    instance=1,\n",
    "    dimension=10,\n",
    "    problem_type=\"Real\"\n",
    ")\n",
    "problem"
   ]
  },
  {
   "cell_type": "code",
   "execution_count": 4,
   "id": "d1348a17",
   "metadata": {},
   "outputs": [
    {
     "data": {
      "text/plain": [
       "<MetaData: Sphere id: 1 iid: 1 dim: 10>"
      ]
     },
     "execution_count": 4,
     "metadata": {},
     "output_type": "execute_result"
    }
   ],
   "source": [
    "# The problem class includes information about the problem, which can be retrieved via the meta_data accessor\n",
    "problem.meta_data"
   ]
  },
  {
   "cell_type": "code",
   "execution_count": 5,
   "id": "92a1d439",
   "metadata": {},
   "outputs": [
    {
     "data": {
      "text/plain": [
       "<State evaluations: 0 optimum_found: false current_best: <Solution x: {nan, nan, nan, nan, nan, nan, nan, nan, nan, nan} y: nan>>"
      ]
     },
     "execution_count": 5,
     "metadata": {},
     "output_type": "execute_result"
    }
   ],
   "source": [
    "# The current state of the problem, e.g. the number of evaluations, best seen points etc. are stored in the problems state.\n",
    "problem.state"
   ]
  },
  {
   "cell_type": "code",
   "execution_count": 6,
   "id": "60867ad0",
   "metadata": {},
   "outputs": [
    {
     "data": {
      "text/plain": [
       "<State evaluations: 1 optimum_found: false current_best: <Solution x: {-4.965799216654432, -4.377460869934762, 1.6903560899570094, 0.2092978944803079, -4.000656860447819, 1.657967826071756, 2.4993399580643647, -1.2865271634542887, 4.404184976550663, -0.2854966440240494} y: 182.06619403687242>>"
      ]
     },
     "execution_count": 6,
     "metadata": {},
     "output_type": "execute_result"
    }
   ],
   "source": [
    "# We can access the contraint information of the problem\n",
    "x0 = np.random.uniform(problem.constraint.lb, problem.constraint.ub)\n",
    "\n",
    "# Evaluation happens like a 'normal' objective function would\n",
    "problem(x0)\n",
    "\n",
    "# Whenever the problem is evaluated, the state changes\n",
    "problem.state"
   ]
  },
  {
   "cell_type": "code",
   "execution_count": 7,
   "id": "aa63f72a",
   "metadata": {},
   "outputs": [],
   "source": [
    "@dataclass\n",
    "class RandomSearch:\n",
    "    'Simple random search algorithm'\n",
    "    \n",
    "    n: int\n",
    "    length: float = 0.0\n",
    "        \n",
    "    def __call__(self, problem: ioh.problem.Real) -> None:\n",
    "        'Evaluate the problem n times with a randomly generated solution'\n",
    "        \n",
    "        for _ in range(self.n):\n",
    "            # We can use the problems constraint accessor to get information about the problem bounds\n",
    "            x = np.random.uniform(problem.constraint.lb, problem.constraint.ub)\n",
    "            self.length = np.linalg.norm(x)\n",
    "            \n",
    "            problem(x)         "
   ]
  },
  {
   "cell_type": "code",
   "execution_count": 8,
   "id": "29a64207",
   "metadata": {},
   "outputs": [
    {
     "name": "stdout",
     "output_type": "stream",
     "text": [
      "run: 1 - best found: 123.365\n",
      "run: 2 - best found: 112.200\n",
      "run: 3 - best found: 129.105\n",
      "run: 4 - best found: 133.702\n",
      "run: 5 - best found: 136.219\n"
     ]
    }
   ],
   "source": [
    "# If we want to perform multiple runs with the same objective function, after every run, the problem has to be reset, \n",
    "# such that the internal state reflects the current run.\n",
    "\n",
    "def run_experiment(problem, algorithm, n_runs=5):\n",
    "    for run in range(n_runs):\n",
    "        \n",
    "        # Run the algorithm on the problem\n",
    "        algorithm(problem)\n",
    "\n",
    "        # print the best found for this run\n",
    "        print(f\"run: {run+1} - best found:{problem.state.current_best.y: .3f}\")\n",
    "\n",
    "        # Reset the problem\n",
    "        problem.reset()\n",
    "\n",
    "run_experiment(problem, RandomSearch(10))"
   ]
  },
  {
   "cell_type": "markdown",
   "id": "5363fb83",
   "metadata": {},
   "source": [
    "# Adding custom problems\n",
    "As the list of already implemented problems might not contains the objective function you would like to analyze and benchmark, we include an easy to use interface to wrap your benchmark function into an iohexperimenter `problem` object. \n",
    "\n",
    "Currently, only single objective functions are supported, so the only requirement on the function is its signature, which should take a single array parameter, and return a single floating point number $f(\\mathbf{x}) \\mapsto \\mathbb{R}$.\n",
    "\n",
    "In this example we will add the function (Styblinski–Tang):\n",
    "\n",
    "$f(\\mathbf{x}) = \\frac{\\sum_{i=1}^n x_i^4 - 16x_i^2 + 5x_i}{2}$\n",
    "\n",
    "defined on $[-5, 5]$"
   ]
  },
  {
   "cell_type": "code",
   "execution_count": 9,
   "id": "00645ed8",
   "metadata": {},
   "outputs": [
    {
     "data": {
      "text/plain": [
       "-391.661657037714"
      ]
     },
     "execution_count": 9,
     "metadata": {},
     "output_type": "execute_result"
    }
   ],
   "source": [
    "def styblinski_tang(x: np.ndarray) -> float:\n",
    "    return np.sum(np.power(x, 4) - (16 * np.power(x, 2)) + (5 * x)) / 2\n",
    "\n",
    "\n",
    "styblinski_tang(np.array([-2.903534]*10)) # global minima"
   ]
  },
  {
   "cell_type": "code",
   "execution_count": 10,
   "id": "471faf0c",
   "metadata": {},
   "outputs": [],
   "source": [
    "# we can wrap this function in ioh, as this is is a continous function, we use wrap_real_problem:\n",
    "ioh.problem.wrap_real_problem(\n",
    "    styblinski_tang,                                     # Handle to the function\n",
    "    name=\"StyblinskiTang\",                               # Name to be used when instantiating\n",
    "    optimization_type=ioh.OptimizationType.Minimization, # Specify that we want to minimize\n",
    "    lb=-5,                                               # The lower bound\n",
    "    ub=5,                                                # The upper bound\n",
    ")"
   ]
  },
  {
   "cell_type": "code",
   "execution_count": 11,
   "id": "297248fd",
   "metadata": {},
   "outputs": [
    {
     "data": {
      "text/plain": [
       "<RealProblem 25. StyblinskiTang (iid=1 dim=10)>"
      ]
     },
     "execution_count": 11,
     "metadata": {},
     "output_type": "execute_result"
    }
   ],
   "source": [
    "# We can create an instance of this problem, wrapped in ioh\n",
    "problem = ioh.get_problem(\"StyblinskiTang\", dimension=10)\n",
    "problem"
   ]
  },
  {
   "cell_type": "markdown",
   "id": "0a7ddd84",
   "metadata": {},
   "source": [
    "## Specifying instances\n",
    "When doing bechmarking of custom problems, it can often be usefull to look at different instances of the same problem, but that perform some transformation the parameter or objective space, to test if an algorithm is invariant to such transformations. \n",
    "\n",
    "Here we add the following transformations to the aforementioned objective function:\n",
    "\n",
    "$T_x(\\mathbf{x}, c) = \\mathbf{x} + c$\n",
    "\n",
    "$T_y(y, c) = y * c$\n",
    "\n",
    "We can do this by providing transformation functions to the `wrap_problem` interface. Note that these take two parameters:\n",
    " 1. The operand they function on, which are the variables for the variables transformation and objective function value for the objective transformation. \n",
    " 2. An integer identifier of the instance id which is currently used. This allows you to specify alternate behavior for different instances.  "
   ]
  },
  {
   "cell_type": "code",
   "execution_count": 12,
   "id": "3b25d6d5",
   "metadata": {},
   "outputs": [],
   "source": [
    "# Variables transformation R^d -> R^d\n",
    "def transform_variables(x: np.ndarray, instance_id:int) -> np.ndarray:\n",
    "    c = (instance_id - 1) * .5\n",
    "    return x + c\n",
    "\n",
    "# Objective transformation R -> R\n",
    "def transform_objectives(y: float, instance_id:int) -> float:\n",
    "    c = instance_id\n",
    "    return y * c\n",
    "\n",
    "# Note that we can overwrite a previously defined problem by calling wrap_real_problem again with the same name\n",
    "ioh.problem.wrap_real_problem(\n",
    "    styblinski_tang,                                     \n",
    "    name=\"StyblinskiTang\",                               \n",
    "    optimization_type=ioh.OptimizationType.Minimization, \n",
    "    lb=-5,                                               \n",
    "    ub=5,      \n",
    "    \n",
    "    # Adding the transformation functions\n",
    "    transform_variables=transform_variables,     \n",
    "    transform_objectives=transform_objectives\n",
    ")"
   ]
  },
  {
   "cell_type": "code",
   "execution_count": 13,
   "id": "cb94e23f",
   "metadata": {},
   "outputs": [
    {
     "data": {
      "text/plain": [
       "(<RealProblem 25. StyblinskiTang (iid=1 dim=10)>,\n",
       " <RealProblem 25. StyblinskiTang (iid=2 dim=10)>)"
      ]
     },
     "execution_count": 13,
     "metadata": {},
     "output_type": "execute_result"
    }
   ],
   "source": [
    "# We can now create different instances of the same problem\n",
    "instance1 = ioh.get_problem(\"StyblinskiTang\", instance=1, dimension=10)\n",
    "instance2 = ioh.get_problem(\"StyblinskiTang\", instance=2, dimension=10)\n",
    "instance1, instance2"
   ]
  },
  {
   "cell_type": "code",
   "execution_count": 14,
   "id": "a2e4b76e",
   "metadata": {},
   "outputs": [
    {
     "data": {
      "text/plain": [
       "(78.5881578768589, 26.9721471188525)"
      ]
     },
     "execution_count": 14,
     "metadata": {},
     "output_type": "execute_result"
    }
   ],
   "source": [
    "# Note that when evaluating with the same point, each instance gives a different (transformed value)\n",
    "instance1(x0), instance2(x0)"
   ]
  },
  {
   "cell_type": "markdown",
   "id": "d730bc5d",
   "metadata": {},
   "source": [
    "# Logging data\n",
    "The default usage of IOHExperimenter is in generating logs of benchmarking experiments which can be analyzed in IOHAnalyzer. "
   ]
  },
  {
   "cell_type": "code",
   "execution_count": 15,
   "id": "73045faa",
   "metadata": {},
   "outputs": [
    {
     "data": {
      "text/plain": [
       "<Analyzer /home/jacob/code/ioh-tutorial/my-experiment>"
      ]
     },
     "execution_count": 15,
     "metadata": {},
     "output_type": "execute_result"
    }
   ],
   "source": [
    "import os\n",
    "\n",
    "logger = ioh.logger.Analyzer(\n",
    "    root=os.getcwd(),                  # Store data in the current working directory\n",
    "    folder_name=\"my-experiment\",       # in a folder named: 'my-experiment'\n",
    "    algorithm_name=\"random-search\",    # meta-data for the algorithm used to generate these results\n",
    "    store_positions=True               # store x-variables in the logged files\n",
    ")\n",
    "\n",
    "# this automatically creates a folder 'my-experiment' in the current working directory\n",
    "# if the folder already exists, it will given an additional number to make the name unique\n",
    "logger"
   ]
  },
  {
   "cell_type": "code",
   "execution_count": 16,
   "id": "e4ad6ae2",
   "metadata": {},
   "outputs": [
    {
     "name": "stdout",
     "output_type": "stream",
     "text": [
      "'IOHExperimenter Tutorial.ipynb'   \u001b[0m\u001b[01;34mmy-experiment\u001b[0m/   requirements.txt   \u001b[01;34mvenv\u001b[0m/\r\n"
     ]
    }
   ],
   "source": [
    "%ls"
   ]
  },
  {
   "cell_type": "code",
   "execution_count": 17,
   "id": "d4e4386e",
   "metadata": {},
   "outputs": [
    {
     "name": "stdout",
     "output_type": "stream",
     "text": [
      "run: 1 - best found:-54.482\n"
     ]
    }
   ],
   "source": [
    "# In order to log data for a problem, we only have to attach it to a logger\n",
    "problem = ioh.get_problem(\"StyblinskiTang\", instance=1, dimension=2)\n",
    "problem.attach_logger(logger)\n",
    "\n",
    "# We can then run the random search as before, only now all data will be logged to a file\n",
    "run_experiment(problem, RandomSearch(10), n_runs=1)"
   ]
  },
  {
   "cell_type": "code",
   "execution_count": 18,
   "id": "c75e73e4",
   "metadata": {},
   "outputs": [
    {
     "name": "stdout",
     "output_type": "stream",
     "text": [
      "suite = \"unknown_suite\", funcId = 25, funcName = \"StyblinskiTang\", DIM = 2, maximization = \"F\", algId = \"random-search\", algInfo = \"algorithm_info\"\r\n",
      "%\r\n",
      "data_f25_StyblinskiTang/IOHprofiler_f25_DIM2.dat, 1:7|-54.4821"
     ]
    }
   ],
   "source": [
    "%cat my-experiment/IOHprofiler_f25_StyblinskiTang.info"
   ]
  },
  {
   "cell_type": "code",
   "execution_count": 19,
   "id": "76cb6fb5",
   "metadata": {},
   "outputs": [
    {
     "name": "stdout",
     "output_type": "stream",
     "text": [
      "\"function evaluation\" \"current f(x)\" \"best-so-far f(x)\" \"current af(x)+b\" \"best af(x)+b\" x0 x1\r\n",
      "1 -44.3766230866 -44.3766230866 -44.3766230866 -44.3766230866 -2.595596 -4.052116\r\n",
      "5 -49.6144220463 -49.6144220463 -49.6144220463 -49.6144220463 2.780863 -1.771090\r\n",
      "7 -54.4821219214 -54.4821219214 -54.4821219214 -54.4821219214 -3.809389 -2.305370\r\n",
      "10 21.7218576326 -54.4821219214 21.7218576326 -54.4821219214 2.533326 -4.625369\r\n"
     ]
    }
   ],
   "source": [
    "%cat my-experiment/data_f25_StyblinskiTang/IOHprofiler_f25_DIM2.dat"
   ]
  },
  {
   "cell_type": "markdown",
   "id": "32f29a53",
   "metadata": {},
   "source": [
    "## Triggers \n",
    "The default behavior of the `Analyzer` logger is to log data only when there is an improvement of the objective value. We can change this behaviour, by specifying one or more triggers, which are logical operators, which when one of them evaluates to True, will cause data to be logged.\n",
    "\n",
    "We provide a number of trigger variants which can be use to customize the logging. In the following example, a trigger is defined which evaluates to True, every 3 function evaluations. It is combined with a trigger for improvement, so data will be logged on every 3rd function evaluation, or when there is an observed improvement of the objective value"
   ]
  },
  {
   "cell_type": "code",
   "execution_count": 20,
   "id": "9a1fab34",
   "metadata": {},
   "outputs": [
    {
     "data": {
      "text/plain": [
       "<Analyzer /home/jacob/code/ioh-tutorial/my-experiment-1>"
      ]
     },
     "execution_count": 20,
     "metadata": {},
     "output_type": "execute_result"
    }
   ],
   "source": [
    "triggers = [\n",
    "    ioh.logger.trigger.Each(3),\n",
    "    ioh.logger.trigger.OnImprovement()\n",
    "]\n",
    "\n",
    "logger = ioh.logger.Analyzer(\n",
    "    root=os.getcwd(),                  \n",
    "    folder_name=\"my-experiment\",       \n",
    "    algorithm_name=\"random-search\",    \n",
    "    store_positions=True,\n",
    "    \n",
    "    # Add the triggers to the logger\n",
    "    triggers = triggers\n",
    ")\n",
    "\n",
    "logger"
   ]
  },
  {
   "cell_type": "code",
   "execution_count": 21,
   "id": "d2f2f655",
   "metadata": {},
   "outputs": [
    {
     "name": "stdout",
     "output_type": "stream",
     "text": [
      "run: 1 - best found:-52.742\n"
     ]
    }
   ],
   "source": [
    "# Rerun the same experiment as before\n",
    "problem = ioh.get_problem(\"StyblinskiTang\", instance=1, dimension=2)\n",
    "problem.attach_logger(logger)\n",
    "run_experiment(problem, RandomSearch(10), n_runs=1)"
   ]
  },
  {
   "cell_type": "code",
   "execution_count": 22,
   "id": "7dd3928d",
   "metadata": {},
   "outputs": [
    {
     "name": "stdout",
     "output_type": "stream",
     "text": [
      "\"function evaluation\" \"current f(x)\" \"best-so-far f(x)\" \"current af(x)+b\" \"best af(x)+b\" x0 x1\r\n",
      "1 -26.5167507867 -26.5167507867 -26.5167507867 -26.5167507867 2.787230 0.628607\r\n",
      "3 -13.9425868128 -26.5167507867 -13.9425868128 -26.5167507867 -0.214055 1.589180\r\n",
      "4 -52.7423566105 -52.7423566105 -52.7423566105 -52.7423566105 -1.230283 -3.062868\r\n",
      "6 -32.1611334282 -52.7423566105 -32.1611334282 -52.7423566105 1.924573 -1.239015\r\n",
      "9 38.3307352286 -52.7423566105 38.3307352286 -52.7423566105 4.569737 -3.724469\r\n",
      "10 82.4199338284 -52.7423566105 82.4199338284 -52.7423566105 -4.903176 -0.366409\r\n"
     ]
    }
   ],
   "source": [
    "# We can now see that data is logged either if there is improvement, or on every 3rd evaluation\n",
    "%cat my-experiment-1/data_f25_StyblinskiTang/IOHprofiler_f25_DIM2.dat"
   ]
  },
  {
   "cell_type": "markdown",
   "id": "c1e6fe4c",
   "metadata": {},
   "source": [
    "## Properties\n",
    "If we want to keep track of any dynamic parameters a given algorithm might have, we can use properties to log them to the output files. \n",
    "\n",
    "In the following example, we will track the length parameters for the RandomSearch algorithm, which is added for illustrative purpoposes, and changes for every function evaluation"
   ]
  },
  {
   "cell_type": "code",
   "execution_count": 24,
   "id": "e1349d3b",
   "metadata": {},
   "outputs": [
    {
     "name": "stdout",
     "output_type": "stream",
     "text": [
      "run: 1 - best found:-39.048\n"
     ]
    }
   ],
   "source": [
    "# RandomSearch has a length parameter, which is dynamic\n",
    "algorithm = RandomSearch(10)\n",
    "\n",
    "# Creating a new logger\n",
    "logger = ioh.logger.Analyzer(\n",
    "    root=os.getcwd(),                  \n",
    "    folder_name=\"my-experiment\",       \n",
    "    algorithm_name=\"random-search\",    \n",
    "    store_positions=True\n",
    ")\n",
    "\n",
    "# Before we attach a problem, we tell the logger to keep track of the length parameter on algorithm\n",
    "logger.watch(algorithm, \"length\")\n",
    "\n",
    "# We can now again run the same experiment \n",
    "problem = ioh.get_problem(\"StyblinskiTang\", instance=1, dimension=2)\n",
    "\n",
    "problem.attach_logger(logger)\n",
    "run_experiment(problem, algorithm, n_runs=1)"
   ]
  },
  {
   "cell_type": "code",
   "execution_count": 26,
   "id": "1aeb2d60",
   "metadata": {},
   "outputs": [
    {
     "name": "stdout",
     "output_type": "stream",
     "text": [
      "\"function evaluation\" \"current f(x)\" \"best-so-far f(x)\" \"current af(x)+b\" \"best af(x)+b\" length x0 x1\r\n",
      "1 0.7373070301 0.7373070301 0.7373070301 0.7373070301 0.0000000000 4.252552 -3.598782\r\n",
      "3 -39.0480122750 -39.0480122750 -39.0480122750 -39.0480122750 5.6948072403 2.732583 1.654862\r\n",
      "10 35.9860404885 -39.0480122750 35.9860404885 -39.0480122750 6.0704031709 -4.688727 -3.855598\r\n"
     ]
    }
   ],
   "source": [
    "# Note the additional length parameter being logged \n",
    "%cat my-experiment-2/data_f25_StyblinskiTang/IOHprofiler_f25_DIM2.dat"
   ]
  },
  {
   "cell_type": "markdown",
   "id": "32ad5296",
   "metadata": {},
   "source": [
    "# Alternate logging behaviour\n",
    "We provide a number of different loggers in addition to the `Analyzer` logger, which include:\n",
    " - `FlatFile` which logs data to a simple csv file\n",
    " - `Store` which keeps all of the stored data in memory\n",
    " - `EAF/EAH` which compute Empirical Attainment Function/Histogram statistics on the fly\n",
    "\n",
    "You can define your own custom logging behavoir by inheriting from the `AbstractLogger` class. The only required part of the interface is that you override the `__call__` operator, which takes a single `ioh.LogInfo` parameter. In this method you should define your desired behavior. "
   ]
  },
  {
   "cell_type": "code",
   "execution_count": 62,
   "id": "ff4411d1",
   "metadata": {},
   "outputs": [
    {
     "name": "stderr",
     "output_type": "stream",
     "text": [
      "14:41:10 INFO - triggered! y: -67.18288886917159\n"
     ]
    },
    {
     "name": "stdout",
     "output_type": "stream",
     "text": [
      "run: 1 - best found:-67.183\n"
     ]
    }
   ],
   "source": [
    "# Simple logger that logs data using the python logging module whenever it is triggeredd\n",
    "class MyLogger(ioh.logger.AbstractLogger):\n",
    "    def __call__(self, log_info: ioh.LogInfo):\n",
    "        logging.info(msg=f\"triggered! y: {log_info.current.y}\")\n",
    "\n",
    "\n",
    "# The abstract logger takes two parameters, triggers and properties\n",
    "mylogger = MyLogger(triggers=[ioh.logger.trigger.ON_IMPROVEMENT])\n",
    "\n",
    "problem = ioh.get_problem(\"StyblinskiTang\", instance=1, dimension=2)\n",
    "problem.attach_logger(mylogger)\n",
    "\n",
    "run_experiment(problem, RandomSearch(10), 1)"
   ]
  },
  {
   "cell_type": "code",
   "execution_count": 60,
   "id": "26a8da2c",
   "metadata": {},
   "outputs": [],
   "source": [
    "# Creating a logger which tracks the current best search point on improvement in memory\n",
    "store = ioh.logger.Store(\n",
    "    triggers=[ioh.logger.trigger.ON_IMPROVEMENT], \n",
    "    properties=[ioh.logger.property.CURRENT_Y_BEST]\n",
    ")\n",
    "\n",
    "# Create a MyLogger which triggers at every evaluation\n",
    "mylogger = MyLogger(triggers=[ioh.logger.trigger.ALWAYS])\n",
    "\n",
    "# It is possible to combine the behaviour of multiple loggers, using the combine wrapper\n",
    "combined_logger = ioh.logger.Combine([store, mylogger])"
   ]
  },
  {
   "cell_type": "code",
   "execution_count": 61,
   "id": "78a5502e",
   "metadata": {},
   "outputs": [
    {
     "name": "stdout",
     "output_type": "stream",
     "text": [
      "run: 1 - best found:-48.337\n"
     ]
    }
   ],
   "source": [
    "problem = ioh.get_problem(\"StyblinskiTang\", instance=1, dimension=2)\n",
    "problem.attach_logger(combined_logger)\n",
    "\n",
    "run_experiment(problem, RandomSearch(10), 1)"
   ]
  },
  {
   "cell_type": "code",
   "execution_count": 56,
   "id": "270d7a87",
   "metadata": {},
   "outputs": [
    {
     "data": {
      "text/plain": [
       "{'None': {25: {2: {1: {0: {0: {'current_y': -22.31674616124505},\n",
       "      1: {'current_y': -28.377112128791083},\n",
       "      2: {'current_y': -32.88350611540544},\n",
       "      3: {'current_y': -48.84534069402707}}}}}}}"
      ]
     },
     "execution_count": 56,
     "metadata": {},
     "output_type": "execute_result"
    }
   ],
   "source": [
    "store.data()"
   ]
  },
  {
   "cell_type": "code",
   "execution_count": null,
   "id": "2b7d9a7f",
   "metadata": {},
   "outputs": [],
   "source": []
  }
 ],
 "metadata": {
  "kernelspec": {
   "display_name": "Python 3 (ipykernel)",
   "language": "python",
   "name": "python3"
  },
  "language_info": {
   "codemirror_mode": {
    "name": "ipython",
    "version": 3
   },
   "file_extension": ".py",
   "mimetype": "text/x-python",
   "name": "python",
   "nbconvert_exporter": "python",
   "pygments_lexer": "ipython3",
   "version": "3.8.10"
  }
 },
 "nbformat": 4,
 "nbformat_minor": 5
}
