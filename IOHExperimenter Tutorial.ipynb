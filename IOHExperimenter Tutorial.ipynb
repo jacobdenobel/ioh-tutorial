{
 "cells": [
  {
   "cell_type": "code",
   "execution_count": 1,
   "id": "07fdf86d",
   "metadata": {},
   "outputs": [],
   "source": [
    "import os\n",
    "from dataclasses import dataclass\n",
    "import logging\n",
    "logging.basicConfig(level=logging.INFO, \n",
    "    format='%(asctime)s %(levelname)s - %(message)s',\n",
    "    datefmt=\"%H:%M:%S\"\n",
    ")\n",
    "\n",
    "import ioh # version 0.3.2.8.3\n",
    "import numpy as np\n",
    "%rm -rf my-experiment*"
   ]
  },
  {
   "cell_type": "markdown",
   "id": "94f8621d",
   "metadata": {},
   "source": [
    "# Problem\n",
    "In ioh, everything revolves around the `problem` class, which exists for both `Real` and `Integer` types for continious and discrete problems resp. These classes are wrappers around an objective function, and can be used to interact with the various other parts of iohexperimenter. \n",
    "\n",
    "We have a number of objective functions already implemented for convenience, which includes the objective functions from the BBOB single objective benchmark by the COCO platform for the continous case and the PBO benchmark functions for the discrete case.\n"
   ]
  },
  {
   "cell_type": "code",
   "execution_count": 2,
   "id": "5cbe3df2",
   "metadata": {
    "scrolled": false
   },
   "outputs": [
    {
     "data": {
      "text/plain": [
       "{1: 'Sphere',\n",
       " 2: 'Ellipsoid',\n",
       " 3: 'Rastrigin',\n",
       " 4: 'BuecheRastrigin',\n",
       " 5: 'LinearSlope',\n",
       " 6: 'AttractiveSector',\n",
       " 7: 'StepEllipsoid',\n",
       " 8: 'Rosenbrock',\n",
       " 9: 'RosenbrockRotated',\n",
       " 10: 'EllipsoidRotated',\n",
       " 11: 'Discus',\n",
       " 12: 'BentCigar',\n",
       " 13: 'SharpRidge',\n",
       " 14: 'DifferentPowers',\n",
       " 15: 'RastriginRotated',\n",
       " 16: 'Weierstrass',\n",
       " 17: 'Schaffers10',\n",
       " 18: 'Schaffers1000',\n",
       " 19: 'GriewankRosenBrock',\n",
       " 20: 'Schwefel',\n",
       " 21: 'Gallagher101',\n",
       " 22: 'Gallagher21',\n",
       " 23: 'Katsuura',\n",
       " 24: 'LunacekBiRastrigin'}"
      ]
     },
     "execution_count": 2,
     "metadata": {},
     "output_type": "execute_result"
    }
   ],
   "source": [
    "## A list of problems can be accessed via the base classes\n",
    "ioh.problem.Real.problems"
   ]
  },
  {
   "cell_type": "code",
   "execution_count": 3,
   "id": "2e9d10a4",
   "metadata": {},
   "outputs": [
    {
     "data": {
      "text/plain": [
       "<RealProblem 1. Sphere (iid=1 dim=10)>"
      ]
     },
     "execution_count": 3,
     "metadata": {},
     "output_type": "execute_result"
    }
   ],
   "source": [
    "# In order to instatiate a problem instance, we can do the following:\n",
    "problem = ioh.get_problem(\n",
    "    \"Sphere\", \n",
    "    instance=1,\n",
    "    dimension=10,\n",
    "    problem_type=\"Real\"\n",
    ")\n",
    "problem"
   ]
  },
  {
   "cell_type": "code",
   "execution_count": 4,
   "id": "e0c8733f",
   "metadata": {},
   "outputs": [
    {
     "data": {
      "text/plain": [
       "<MetaData: Sphere id: 1 iid: 1 dim: 10>"
      ]
     },
     "execution_count": 4,
     "metadata": {},
     "output_type": "execute_result"
    }
   ],
   "source": [
    "# The problem class includes information about the problem, which can be retrieved via the meta_data accessor\n",
    "problem.meta_data"
   ]
  },
  {
   "cell_type": "code",
   "execution_count": 5,
   "id": "f0264ec1",
   "metadata": {},
   "outputs": [
    {
     "data": {
      "text/plain": [
       "<State evaluations: 0 optimum_found: false current_best: <Solution x: {nan, nan, nan, nan, nan, nan, nan, nan, nan, nan} y: nan>>"
      ]
     },
     "execution_count": 5,
     "metadata": {},
     "output_type": "execute_result"
    }
   ],
   "source": [
    "# The current state of the problem, e.g. the number of evaluations, best seen points etc. are stored in the problems state.\n",
    "problem.state"
   ]
  },
  {
   "cell_type": "code",
   "execution_count": 6,
   "id": "372f25a0",
   "metadata": {},
   "outputs": [
    {
     "data": {
      "text/plain": [
       "<State evaluations: 1 optimum_found: false current_best: <Solution x: {-1.2950204717511795, 0.327119000894486, 0.615587210650582, -0.8015767595153047, 1.9372506289377602, -3.0763003666405453, 4.170721104709955, -1.4149184991965824, 0.8921392997525395, -4.286495245334493} y: 155.66359663903182>>"
      ]
     },
     "execution_count": 6,
     "metadata": {},
     "output_type": "execute_result"
    }
   ],
   "source": [
    "# We can access the contraint information of the problem\n",
    "x0 = np.random.uniform(problem.constraint.lb, problem.constraint.ub)\n",
    "\n",
    "# Evaluation happens like a 'normal' objective function would\n",
    "problem(x0)\n",
    "\n",
    "# Whenever the problem is evaluated, the state changes\n",
    "problem.state"
   ]
  },
  {
   "cell_type": "code",
   "execution_count": 7,
   "id": "16d775ef",
   "metadata": {},
   "outputs": [],
   "source": [
    "@dataclass\n",
    "class RandomSearch:\n",
    "    'Simple random search algorithm'\n",
    "    \n",
    "    n: int\n",
    "    length: float = 0.0\n",
    "        \n",
    "    def __call__(self, problem: ioh.problem.Real) -> None:\n",
    "        'Evaluate the problem n times with a randomly generated solution'\n",
    "        \n",
    "        for _ in range(self.n):\n",
    "            # We can use the problems constraint accessor to get information about the problem bounds\n",
    "            x = np.random.uniform(problem.constraint.lb, problem.constraint.ub)\n",
    "            self.length = np.linalg.norm(x)\n",
    "            \n",
    "            problem(x)         "
   ]
  },
  {
   "cell_type": "code",
   "execution_count": 8,
   "id": "75f26c25",
   "metadata": {},
   "outputs": [
    {
     "name": "stdout",
     "output_type": "stream",
     "text": [
      "run: 1 - best found: 125.712\n",
      "run: 2 - best found: 104.112\n",
      "run: 3 - best found: 159.729\n",
      "run: 4 - best found: 135.021\n",
      "run: 5 - best found: 137.280\n"
     ]
    }
   ],
   "source": [
    "# If we want to perform multiple runs with the same objective function, after every run, the problem has to be reset, \n",
    "# such that the internal state reflects the current run.\n",
    "\n",
    "def run_experiment(problem, algorithm, n_runs=5):\n",
    "    for run in range(n_runs):\n",
    "        \n",
    "        # Run the algorithm on the problem\n",
    "        algorithm(problem)\n",
    "\n",
    "        # print the best found for this run\n",
    "        print(f\"run: {run+1} - best found:{problem.state.current_best.y: .3f}\")\n",
    "\n",
    "        # Reset the problem\n",
    "        problem.reset()\n",
    "\n",
    "run_experiment(problem, RandomSearch(10))"
   ]
  },
  {
   "cell_type": "markdown",
   "id": "ff1d41c0",
   "metadata": {},
   "source": [
    "# Adding custom problems\n",
    "As the list of already implemented problems might not contains the objective function you would like to analyze and benchmark, we include an easy to use interface to wrap your benchmark function into an iohexperimenter `problem` object. \n",
    "\n",
    "Currently, only single objective functions are supported, so the only requirement on the function is its signature, which should take a single array parameter, and return a single floating point number $f(\\mathbf{x}) \\mapsto \\mathbb{R}$.\n",
    "\n",
    "In this example we will add the function (Styblinski–Tang):\n",
    "\n",
    "$f(\\mathbf{x}) = \\frac{\\sum_{i=1}^n x_i^4 - 16x_i^2 + 5x_i}{2}$\n",
    "\n",
    "defined on $[-5, 5]$"
   ]
  },
  {
   "cell_type": "code",
   "execution_count": 9,
   "id": "86f32b7a",
   "metadata": {},
   "outputs": [
    {
     "data": {
      "text/plain": [
       "-391.661657037714"
      ]
     },
     "execution_count": 9,
     "metadata": {},
     "output_type": "execute_result"
    }
   ],
   "source": [
    "def styblinski_tang(x: np.ndarray) -> float:\n",
    "    return np.sum(np.power(x, 4) - (16 * np.power(x, 2)) + (5 * x)) / 2\n",
    "\n",
    "\n",
    "styblinski_tang(np.array([-2.903534]*10)) # global minima"
   ]
  },
  {
   "cell_type": "code",
   "execution_count": 10,
   "id": "eb23a7d5",
   "metadata": {},
   "outputs": [],
   "source": [
    "# we can wrap this function in ioh, as this is is a continous function, we use wrap_real_problem:\n",
    "ioh.problem.wrap_real_problem(\n",
    "    styblinski_tang,                                     # Handle to the function\n",
    "    name=\"StyblinskiTang\",                               # Name to be used when instantiating\n",
    "    optimization_type=ioh.OptimizationType.Minimization, # Specify that we want to minimize\n",
    "    lb=-5,                                               # The lower bound\n",
    "    ub=5,                                                # The upper bound\n",
    ")"
   ]
  },
  {
   "cell_type": "code",
   "execution_count": 11,
   "id": "f76f8aea",
   "metadata": {},
   "outputs": [
    {
     "data": {
      "text/plain": [
       "<RealProblem 25. StyblinskiTang (iid=1 dim=10)>"
      ]
     },
     "execution_count": 11,
     "metadata": {},
     "output_type": "execute_result"
    }
   ],
   "source": [
    "# We can create an instance of this problem, wrapped in ioh\n",
    "problem = ioh.get_problem(\"StyblinskiTang\", dimension=10)\n",
    "problem"
   ]
  },
  {
   "cell_type": "markdown",
   "id": "d6ef70d4",
   "metadata": {},
   "source": [
    "## Specifying instances\n",
    "When doing bechmarking of custom problems, it can often be usefull to look at different instances of the same problem, but that perform some transformation the parameter or objective space, to test if an algorithm is invariant to such transformations. \n",
    "\n",
    "Here we add the following transformations to the aforementioned objective function:\n",
    "\n",
    "$T_x(\\mathbf{x}, c) = \\mathbf{x} + c$\n",
    "\n",
    "$T_y(y, c) = y * c$\n",
    "\n",
    "We can do this by providing transformation functions to the `wrap_problem` interface. Note that these take two parameters:\n",
    " 1. The operand they function on, which are the variables for the variables transformation and objective function value for the objective transformation. \n",
    " 2. An integer identifier of the instance id which is currently used. This allows you to specify alternate behavior for different instances.  "
   ]
  },
  {
   "cell_type": "code",
   "execution_count": 12,
   "id": "200870f4",
   "metadata": {},
   "outputs": [],
   "source": [
    "# Variables transformation R^d -> R^d\n",
    "def transform_variables(x: np.ndarray, instance_id:int) -> np.ndarray:\n",
    "    c = (instance_id - 1) * .5\n",
    "    return x + c\n",
    "\n",
    "# Objective transformation R -> R\n",
    "def transform_objectives(y: float, instance_id:int) -> float:\n",
    "    c = instance_id\n",
    "    return y * c\n",
    "\n",
    "# Note that we can overwrite a previously defined problem by calling wrap_real_problem again with the same name\n",
    "ioh.problem.wrap_real_problem(\n",
    "    styblinski_tang,                                     \n",
    "    name=\"StyblinskiTang\",                               \n",
    "    optimization_type=ioh.OptimizationType.Minimization, \n",
    "    lb=-5,                                               \n",
    "    ub=5,      \n",
    "    \n",
    "    # Adding the transformation functions\n",
    "    transform_variables=transform_variables,     \n",
    "    transform_objectives=transform_objectives\n",
    ")"
   ]
  },
  {
   "cell_type": "code",
   "execution_count": 13,
   "id": "5b86e87e",
   "metadata": {},
   "outputs": [
    {
     "data": {
      "text/plain": [
       "(<RealProblem 25. StyblinskiTang (iid=1 dim=10)>,\n",
       " <RealProblem 25. StyblinskiTang (iid=2 dim=10)>)"
      ]
     },
     "execution_count": 13,
     "metadata": {},
     "output_type": "execute_result"
    }
   ],
   "source": [
    "# We can now create different instances of the same problem\n",
    "instance1 = ioh.get_problem(\"StyblinskiTang\", instance=1, dimension=10)\n",
    "instance2 = ioh.get_problem(\"StyblinskiTang\", instance=2, dimension=10)\n",
    "instance1, instance2"
   ]
  },
  {
   "cell_type": "code",
   "execution_count": 14,
   "id": "e20b5d6b",
   "metadata": {},
   "outputs": [
    {
     "data": {
      "text/plain": [
       "(-68.11304809829876, -88.46879515525143)"
      ]
     },
     "execution_count": 14,
     "metadata": {},
     "output_type": "execute_result"
    }
   ],
   "source": [
    "# Note that when evaluating with the same point, each instance gives a different (transformed value)\n",
    "instance1(x0), instance2(x0)"
   ]
  },
  {
   "cell_type": "markdown",
   "id": "021fac60",
   "metadata": {},
   "source": [
    "# Logging data\n",
    "The default usage of IOHExperimenter is in generating logs of benchmarking experiments which can be analyzed in IOHAnalyzer. "
   ]
  },
  {
   "cell_type": "code",
   "execution_count": 15,
   "id": "b5d4b73d",
   "metadata": {},
   "outputs": [
    {
     "data": {
      "text/plain": [
       "<Analyzer /home/jacob/code/ioh-tutorial/my-experiment>"
      ]
     },
     "execution_count": 15,
     "metadata": {},
     "output_type": "execute_result"
    }
   ],
   "source": [
    "import os\n",
    "\n",
    "logger = ioh.logger.Analyzer(\n",
    "    root=os.getcwd(),                  # Store data in the current working directory\n",
    "    folder_name=\"my-experiment\",       # in a folder named: 'my-experiment'\n",
    "    algorithm_name=\"random-search\",    # meta-data for the algorithm used to generate these results\n",
    "    store_positions=True               # store x-variables in the logged files\n",
    ")\n",
    "\n",
    "# this automatically creates a folder 'my-experiment' in the current working directory\n",
    "# if the folder already exists, it will given an additional number to make the name unique\n",
    "logger"
   ]
  },
  {
   "cell_type": "code",
   "execution_count": 16,
   "id": "e008c25a",
   "metadata": {},
   "outputs": [
    {
     "name": "stdout",
     "output_type": "stream",
     "text": [
      "'IOHExperimenter Tutorial.ipynb'   \u001b[0m\u001b[01;34mmy-experiment\u001b[0m/   requirements.txt   \u001b[01;34mvenv\u001b[0m/\r\n"
     ]
    }
   ],
   "source": [
    "%ls"
   ]
  },
  {
   "cell_type": "code",
   "execution_count": 17,
   "id": "276c6a7b",
   "metadata": {},
   "outputs": [
    {
     "name": "stdout",
     "output_type": "stream",
     "text": [
      "run: 1 - best found:-60.648\n"
     ]
    }
   ],
   "source": [
    "# In order to log data for a problem, we only have to attach it to a logger\n",
    "problem = ioh.get_problem(\"StyblinskiTang\", instance=1, dimension=2)\n",
    "problem.attach_logger(logger)\n",
    "\n",
    "# We can then run the random search as before, only now all data will be logged to a file\n",
    "run_experiment(problem, RandomSearch(10), n_runs=1)"
   ]
  },
  {
   "cell_type": "code",
   "execution_count": 18,
   "id": "4207c311",
   "metadata": {},
   "outputs": [
    {
     "name": "stdout",
     "output_type": "stream",
     "text": [
      "suite = \"unknown_suite\", funcId = 25, funcName = \"StyblinskiTang\", DIM = 2, maximization = \"F\", algId = \"random-search\", algInfo = \"algorithm_info\"\r\n",
      "%\r\n",
      "data_f25_StyblinskiTang/IOHprofiler_f25_DIM2.dat, 1:10|-60.6482"
     ]
    }
   ],
   "source": [
    "%cat my-experiment/IOHprofiler_f25_StyblinskiTang.info"
   ]
  },
  {
   "cell_type": "code",
   "execution_count": 19,
   "id": "d820be5c",
   "metadata": {},
   "outputs": [
    {
     "name": "stdout",
     "output_type": "stream",
     "text": [
      "\"function evaluation\" \"current f(x)\" \"best-so-far f(x)\" \"current af(x)+b\" \"best af(x)+b\" x0 x1\r\n",
      "1 87.0248990684 87.0248990684 87.0248990684 87.0248990684 -2.016090 4.948675\r\n",
      "2 45.8853303104 45.8853303104 45.8853303104 45.8853303104 4.436211 0.614896\r\n",
      "5 -15.3107416022 -15.3107416022 -15.3107416022 -15.3107416022 0.399926 1.723550\r\n",
      "8 -58.0688922641 -58.0688922641 -58.0688922641 -58.0688922641 -3.823673 -2.688763\r\n",
      "10 -60.6482247986 -60.6482247986 -60.6482247986 -60.6482247986 2.963955 -3.281878\r\n"
     ]
    }
   ],
   "source": [
    "%cat my-experiment/data_f25_StyblinskiTang/IOHprofiler_f25_DIM2.dat"
   ]
  },
  {
   "cell_type": "markdown",
   "id": "7da18cd9",
   "metadata": {},
   "source": [
    "## Triggers \n",
    "The default behavior of the `Analyzer` logger is to log data only when there is an improvement of the objective value. We can change this behaviour, by specifying one or more triggers, which are logical operators, which when one of them evaluates to True, will cause data to be logged.\n",
    "\n",
    "We provide a number of trigger variants which can be use to customize the logging. In the following example, a trigger is defined which evaluates to True, every 3 function evaluations. It is combined with a trigger for improvement, so data will be logged on every 3rd function evaluation, or when there is an observed improvement of the objective value"
   ]
  },
  {
   "cell_type": "code",
   "execution_count": 20,
   "id": "3673e717",
   "metadata": {},
   "outputs": [
    {
     "data": {
      "text/plain": [
       "<Analyzer /home/jacob/code/ioh-tutorial/my-experiment-1>"
      ]
     },
     "execution_count": 20,
     "metadata": {},
     "output_type": "execute_result"
    }
   ],
   "source": [
    "triggers = [\n",
    "    ioh.logger.trigger.Each(3),\n",
    "    ioh.logger.trigger.OnImprovement()\n",
    "]\n",
    "\n",
    "logger = ioh.logger.Analyzer(\n",
    "    root=os.getcwd(),                  \n",
    "    folder_name=\"my-experiment\",       \n",
    "    algorithm_name=\"random-search\",    \n",
    "    store_positions=True,\n",
    "    \n",
    "    # Add the triggers to the logger\n",
    "    triggers = triggers\n",
    ")\n",
    "\n",
    "logger"
   ]
  },
  {
   "cell_type": "code",
   "execution_count": 21,
   "id": "f8720851",
   "metadata": {},
   "outputs": [
    {
     "name": "stdout",
     "output_type": "stream",
     "text": [
      "run: 1 - best found:-48.744\n"
     ]
    }
   ],
   "source": [
    "# Rerun the same experiment as before\n",
    "problem = ioh.get_problem(\"StyblinskiTang\", instance=1, dimension=2)\n",
    "problem.attach_logger(logger)\n",
    "run_experiment(problem, RandomSearch(10), n_runs=1)"
   ]
  },
  {
   "cell_type": "code",
   "execution_count": 22,
   "id": "0eb16b3e",
   "metadata": {},
   "outputs": [
    {
     "name": "stdout",
     "output_type": "stream",
     "text": [
      "\"function evaluation\" \"current f(x)\" \"best-so-far f(x)\" \"current af(x)+b\" \"best af(x)+b\" x0 x1\r\n",
      "1 -9.4665831884 -9.4665831884 -9.4665831884 -9.4665831884 0.363030 -0.958781\r\n",
      "2 -41.6085866610 -41.6085866610 -41.6085866610 -41.6085866610 -2.550476 -0.602979\r\n",
      "3 66.9618178073 -41.6085866610 66.9618178073 -41.6085866610 -4.209536 -4.750636\r\n",
      "5 -48.7435849457 -48.7435849457 -48.7435849457 -48.7435849457 2.113011 -1.961119\r\n",
      "6 -43.4350363835 -48.7435849457 -43.4350363835 -48.7435849457 2.524879 -1.492339\r\n",
      "9 33.8165932089 -48.7435849457 33.8165932089 -48.7435849457 0.981025 -4.561419\r\n",
      "10 -27.0036459196 -48.7435849457 -27.0036459196 -48.7435849457 -0.678437 3.185457\r\n"
     ]
    }
   ],
   "source": [
    "# We can now see that data is logged either if there is improvement, or on every 3rd evaluation\n",
    "%cat my-experiment-1/data_f25_StyblinskiTang/IOHprofiler_f25_DIM2.dat"
   ]
  },
  {
   "cell_type": "markdown",
   "id": "3ebb4607",
   "metadata": {},
   "source": [
    "## Properties\n",
    "If we want to keep track of any dynamic parameters a given algorithm might have, we can use properties to log them to the output files. \n",
    "\n",
    "In the following example, we will track the length parameters for the RandomSearch algorithm, which is added for illustrative purpoposes, and changes for every function evaluation"
   ]
  },
  {
   "cell_type": "code",
   "execution_count": 23,
   "id": "d3a125d6",
   "metadata": {},
   "outputs": [
    {
     "name": "stdout",
     "output_type": "stream",
     "text": [
      "run: 1 - best found:-54.528\n"
     ]
    }
   ],
   "source": [
    "# RandomSearch has a length parameter, which is dynamic\n",
    "algorithm = RandomSearch(10)\n",
    "\n",
    "# Creating a new logger\n",
    "logger = ioh.logger.Analyzer(\n",
    "    root=os.getcwd(),                  \n",
    "    folder_name=\"my-experiment\",       \n",
    "    algorithm_name=\"random-search\",    \n",
    "    store_positions=True\n",
    ")\n",
    "\n",
    "# Before we attach a problem, we tell the logger to keep track of the length parameter on algorithm\n",
    "logger.watch(algorithm, \"length\")\n",
    "\n",
    "# We can now again run the same experiment \n",
    "problem = ioh.get_problem(\"StyblinskiTang\", instance=1, dimension=2)\n",
    "\n",
    "problem.attach_logger(logger)\n",
    "run_experiment(problem, algorithm, n_runs=1)"
   ]
  },
  {
   "cell_type": "code",
   "execution_count": 24,
   "id": "103e13cb",
   "metadata": {},
   "outputs": [
    {
     "name": "stdout",
     "output_type": "stream",
     "text": [
      "\"function evaluation\" \"current f(x)\" \"best-so-far f(x)\" \"current af(x)+b\" \"best af(x)+b\" length x0 x1\r\n",
      "1 -5.3173094017 -5.3173094017 -5.3173094017 -5.3173094017 4.0721437769 -4.069792 0.138389\r\n",
      "3 -36.4236218156 -36.4236218156 -36.4236218156 -36.4236218156 3.1209839686 2.748852 1.477956\r\n",
      "8 -49.9689041343 -49.9689041343 -49.9689041343 -49.9689041343 4.8216253602 -3.312845 3.503302\r\n",
      "9 -54.5278780884 -54.5278780884 -54.5278780884 -54.5278780884 3.1210723573 -2.337390 2.068261\r\n",
      "10 61.1737368870 -54.5278780884 61.1737368870 -54.5278780884 5.0319882776 4.690094 1.823163\r\n"
     ]
    }
   ],
   "source": [
    "# Note the additional length parameter being logged \n",
    "%cat my-experiment-2/data_f25_StyblinskiTang/IOHprofiler_f25_DIM2.dat"
   ]
  },
  {
   "cell_type": "markdown",
   "id": "7e2642f5",
   "metadata": {},
   "source": [
    "# Alternate logging behaviour\n",
    "We provide a number of different loggers in addition to the `Analyzer` logger, which include:\n",
    " - `FlatFile` which logs data to a simple csv file\n",
    " - `Store` which keeps all of the stored data in memory\n",
    " - `EAF/EAH` which compute Empirical Attainment Function/Histogram statistics on the fly\n",
    "\n",
    "You can define your own custom logging behavoir by inheriting from the `AbstractLogger` class. The only required part of the interface is that you override the `__call__` operator, which takes a single `ioh.LogInfo` parameter. In this method you should define your desired behavior. "
   ]
  },
  {
   "cell_type": "code",
   "execution_count": 25,
   "id": "bad5d7de",
   "metadata": {},
   "outputs": [
    {
     "name": "stderr",
     "output_type": "stream",
     "text": [
      "14:43:59 INFO - triggered! y: 8.159473731241318\n",
      "14:43:59 INFO - triggered! y: -37.76967367460152\n",
      "14:43:59 INFO - triggered! y: -56.775703457009584\n"
     ]
    },
    {
     "name": "stdout",
     "output_type": "stream",
     "text": [
      "run: 1 - best found:-56.776\n"
     ]
    }
   ],
   "source": [
    "# Simple logger that logs data using the python logging module whenever it is triggeredd\n",
    "class MyLogger(ioh.logger.AbstractLogger):\n",
    "    def __call__(self, log_info: ioh.LogInfo):\n",
    "        logging.info(msg=f\"triggered! y: {log_info.current.y}\")\n",
    "\n",
    "\n",
    "# The abstract logger takes two parameters, triggers and properties\n",
    "mylogger = MyLogger(triggers=[ioh.logger.trigger.ON_IMPROVEMENT])\n",
    "\n",
    "problem = ioh.get_problem(\"StyblinskiTang\", instance=1, dimension=2)\n",
    "problem.attach_logger(mylogger)\n",
    "\n",
    "run_experiment(problem, RandomSearch(10), 1)"
   ]
  },
  {
   "cell_type": "code",
   "execution_count": 26,
   "id": "53206159",
   "metadata": {},
   "outputs": [],
   "source": [
    "# Creating a logger which tracks the current best search point on improvement in memory\n",
    "store = ioh.logger.Store(\n",
    "    triggers=[ioh.logger.trigger.ON_IMPROVEMENT], \n",
    "    properties=[ioh.logger.property.CURRENT_Y_BEST]\n",
    ")\n",
    "\n",
    "# Create a MyLogger which triggers at every evaluation\n",
    "mylogger = MyLogger(triggers=[ioh.logger.trigger.ALWAYS])\n",
    "\n",
    "# It is possible to combine the behaviour of multiple loggers, using the combine wrapper\n",
    "combined_logger = ioh.logger.Combine([store, mylogger])"
   ]
  },
  {
   "cell_type": "code",
   "execution_count": 27,
   "id": "3ecfa360",
   "metadata": {},
   "outputs": [
    {
     "name": "stderr",
     "output_type": "stream",
     "text": [
      "14:43:59 INFO - triggered! y: -44.966608962809694\n",
      "14:43:59 INFO - triggered! y: -40.06694479879753\n",
      "14:43:59 INFO - triggered! y: -23.645735366568896\n",
      "14:43:59 INFO - triggered! y: -67.67776890562396\n",
      "14:43:59 INFO - triggered! y: -37.87146940319561\n",
      "14:43:59 INFO - triggered! y: -44.32822127144331\n",
      "14:43:59 INFO - triggered! y: -60.711008231986185\n",
      "14:43:59 INFO - triggered! y: -11.894532038951056\n",
      "14:43:59 INFO - triggered! y: -17.361515573428903\n",
      "14:43:59 INFO - triggered! y: -78.28618270355574\n"
     ]
    },
    {
     "name": "stdout",
     "output_type": "stream",
     "text": [
      "run: 1 - best found:-78.286\n"
     ]
    }
   ],
   "source": [
    "problem = ioh.get_problem(\"StyblinskiTang\", instance=1, dimension=2)\n",
    "problem.attach_logger(combined_logger)\n",
    "\n",
    "run_experiment(problem, RandomSearch(10), 1)"
   ]
  },
  {
   "cell_type": "code",
   "execution_count": 28,
   "id": "201e716d",
   "metadata": {},
   "outputs": [
    {
     "data": {
      "text/plain": [
       "{'None': {25: {2: {1: {0: {0: {'current_y': -44.966608962809694},\n",
       "      1: {'current_y': -67.67776890562396},\n",
       "      2: {'current_y': -78.28618270355574}}}}}}}"
      ]
     },
     "execution_count": 28,
     "metadata": {},
     "output_type": "execute_result"
    }
   ],
   "source": [
    "store.data()"
   ]
  },
  {
   "cell_type": "code",
   "execution_count": null,
   "id": "3aa2b7b1",
   "metadata": {},
   "outputs": [],
   "source": []
  }
 ],
 "metadata": {
  "kernelspec": {
   "display_name": "Python 3 (ipykernel)",
   "language": "python",
   "name": "python3"
  },
  "language_info": {
   "codemirror_mode": {
    "name": "ipython",
    "version": 3
   },
   "file_extension": ".py",
   "mimetype": "text/x-python",
   "name": "python",
   "nbconvert_exporter": "python",
   "pygments_lexer": "ipython3",
   "version": "3.8.10"
  }
 },
 "nbformat": 4,
 "nbformat_minor": 5
}
